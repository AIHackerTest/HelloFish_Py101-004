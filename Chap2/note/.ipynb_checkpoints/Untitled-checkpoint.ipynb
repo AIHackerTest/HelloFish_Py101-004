{
 "cells": [
  {
   "cell_type": "markdown",
   "metadata": {},
   "source": [
    "# requests模块的安装#\n",
    "- 利用easy_install安装pip(homebrew安装requests时出现问题，因为用这个只能同时安装pip和python)"
   ]
  },
  {
   "cell_type": "code",
   "execution_count": 2,
   "metadata": {},
   "outputs": [
    {
     "ename": "SyntaxError",
     "evalue": "invalid syntax (<ipython-input-2-f667c035bea8>, line 1)",
     "output_type": "error",
     "traceback": [
      "\u001b[0;36m  File \u001b[0;32m\"<ipython-input-2-f667c035bea8>\"\u001b[0;36m, line \u001b[0;32m1\u001b[0m\n\u001b[0;31m    sudo easy_install pip  #需要输入密码\u001b[0m\n\u001b[0m                    ^\u001b[0m\n\u001b[0;31mSyntaxError\u001b[0m\u001b[0;31m:\u001b[0m invalid syntax\n"
     ]
    }
   ],
   "source": [
    "sudo easy_install pip  #需要输入密码\n"
   ]
  },
  {
   "cell_type": "markdown",
   "metadata": {},
   "source": [
    "- 用pip安装requests"
   ]
  },
  {
   "cell_type": "code",
   "execution_count": 4,
   "metadata": {},
   "outputs": [
    {
     "ename": "SyntaxError",
     "evalue": "invalid syntax (<ipython-input-4-f06580a5e356>, line 1)",
     "output_type": "error",
     "traceback": [
      "\u001b[0;36m  File \u001b[0;32m\"<ipython-input-4-f06580a5e356>\"\u001b[0;36m, line \u001b[0;32m1\u001b[0m\n\u001b[0;31m    pip search requests | grep Humans\u001b[0m\n\u001b[0m             ^\u001b[0m\n\u001b[0;31mSyntaxError\u001b[0m\u001b[0;31m:\u001b[0m invalid syntax\n"
     ]
    }
   ],
   "source": [
    " pip search requests | grep Humans"
   ]
  },
  {
   "cell_type": "code",
   "execution_count": null,
   "metadata": {
    "collapsed": true
   },
   "outputs": [],
   "source": [
    " pip install requests"
   ]
  },
  {
   "cell_type": "code",
   "execution_count": null,
   "metadata": {
    "collapsed": true
   },
   "outputs": [],
   "source": [
    "pip show requests # 这时就能看到自己安装的pip相关的内容"
   ]
  },
  {
   "cell_type": "markdown",
   "metadata": {},
   "source": [
    "因为我时先安装后补该笔记，在终端中代码是正常安装的，不知道为什么在这里跑不了，考虑可能是路径问题。"
   ]
  },
  {
   "cell_type": "markdown",
   "metadata": {},
   "source": [
    "# 获取API数据 #\n",
    "- 使用心知天气API \n",
    "- 利用python中的requests模块获取API数据，打印request.txt数据如下:"
   ]
  },
  {
   "cell_type": "code",
   "execution_count": 1,
   "metadata": {},
   "outputs": [
    {
     "name": "stdout",
     "output_type": "stream",
     "text": [
      "{\"results\":[{\"location\":{\"id\":\"WS0E9D8WN298\",\"name\":\"广州\",\"country\":\"CN\",\"path\":\"广州,广州,广东,中国\",\"timezone\":\"Asia/Shanghai\",\"timezone_offset\":\"+08:00\"},\"daily\":[{\"date\":\"2017-08-27\",\"text_day\":\"暴雨\",\"code_day\":\"16\",\"text_night\":\"暴雨\",\"code_night\":\"16\",\"high\":\"29\",\"low\":\"24\",\"precip\":\"\",\"wind_direction\":\"东\",\"wind_direction_degree\":\"90\",\"wind_speed\":\"82\",\"wind_scale\":\"9\"},{\"date\":\"2017-08-28\",\"text_day\":\"暴雨\",\"code_day\":\"16\",\"text_night\":\"暴雨\",\"code_night\":\"16\",\"high\":\"30\",\"low\":\"24\",\"precip\":\"\",\"wind_direction\":\"东南\",\"wind_direction_degree\":\"135\",\"wind_speed\":\"39\",\"wind_scale\":\"6\"},{\"date\":\"2017-08-29\",\"text_day\":\"雷阵雨\",\"code_day\":\"11\",\"text_night\":\"雷阵雨\",\"code_night\":\"11\",\"high\":\"32\",\"low\":\"26\",\"precip\":\"\",\"wind_direction\":\"东南\",\"wind_direction_degree\":\"135\",\"wind_speed\":\"15\",\"wind_scale\":\"3\"}],\"last_update\":\"2017-08-27T11:00:00+08:00\"}]}\n"
     ]
    }
   ],
   "source": [
    "import requests\n",
    "import json\n",
    "result = requests.get('https://api.seniverse.com/v3/weather/daily.json', params={\n",
    "        'key': 'a3gtzy7glcuzsxvh',\n",
    "        'location': '广州',\n",
    "        'language': 'zh-Hans',\n",
    "        'unit': ''\n",
    "    }, timeout=20) \n",
    "print(result.text)"
   ]
  },
  {
   "cell_type": "markdown",
   "metadata": {},
   "source": [
    "# 处理API返回数据#\n",
    "- 引入json.loads解析处理返回的json格式数据"
   ]
  }
 ],
 "metadata": {
  "kernelspec": {
   "display_name": "Python 3",
   "language": "python",
   "name": "python3"
  },
  "language_info": {
   "codemirror_mode": {
    "name": "ipython",
    "version": 3
   },
   "file_extension": ".py",
   "mimetype": "text/x-python",
   "name": "python",
   "nbconvert_exporter": "python",
   "pygments_lexer": "ipython3",
   "version": "3.6.1"
  }
 },
 "nbformat": 4,
 "nbformat_minor": 2
}
